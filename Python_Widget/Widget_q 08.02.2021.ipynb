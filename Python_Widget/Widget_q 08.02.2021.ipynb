{
 "cells": [
  {
   "cell_type": "code",
   "execution_count": 8,
   "metadata": {},
   "outputs": [
    {
     "data": {
      "application/vnd.jupyter.widget-view+json": {
       "model_id": "396a70ab396b4abe8b586534d6504cb9",
       "version_major": 2,
       "version_minor": 0
      },
      "text/plain": [
       "VBox(children=(HBox(children=(Label(value='\\\\(\\\\eta\\\\)'), FloatText(value=0.0, layout=Layout(width='5%')), Flo…"
      ]
     },
     "metadata": {},
     "output_type": "display_data"
    },
    {
     "data": {
      "text/plain": [
       "<matplotlib.pyplot._IonContext at 0x1ae261aa448>"
      ]
     },
     "execution_count": 8,
     "metadata": {},
     "output_type": "execute_result"
    },
    {
     "data": {
      "image/png": "[encoded data removed]",
      "text/plain": [
       "<Figure size 432x288 with 2 Axes>"
      ]
     },
     "metadata": {
      "needs_background": "light"
     },
     "output_type": "display_data"
    },
    {
     "data": {
      "image/png": "[encoded data removed]",
      "text/plain": [
       "<Figure size 432x288 with 1 Axes>"
      ]
     },
     "metadata": {
      "needs_background": "light"
     },
     "output_type": "display_data"
    },
    {
     "data": {
      "image/png": "[encoded data removed]",
      "text/plain": [
       "<Figure size 432x288 with 1 Axes>"
      ]
     },
     "metadata": {
      "needs_background": "light"
     },
     "output_type": "display_data"
    }
   ],
   "source": [
    "# %matplotlib widget\n",
    "from IPython.display import display, clear_output\n",
    "import numpy as np\n",
    "import matplotlib.pyplot as plt\n",
    "import ipywidgets as widg\n",
    "\n",
    "# Start with utility from lottery [a,1-q;a+c,q], c>0.\n",
    "\n",
    "q_seq=np.linspace(0,1,50)\n",
    "\n",
    "fig = plt.figure()\n",
    "\n",
    "def SimpUtil(eta, lamb, a, c, q):\n",
    "    return a+q*c-q*(1-q)*eta*(lamb-1)*c\n",
    "\n",
    "\n",
    "\n",
    "def plotting (eta, lamb, a, c):\n",
    "    plt.cla()\n",
    "    ax = fig.add_subplot(1, 1, 1)\n",
    "    ax.spines['left'].set_position('zero')\n",
    "    ax.spines['bottom'].set_position('zero')\n",
    "    ax.spines['right'].set_color('none')\n",
    "    ax.spines['top'].set_color('none')\n",
    "    plt.xlim([-0.5,1.5])\n",
    "\n",
    "    z=SimpUtil(eta, lamb, a, c, q_seq)\n",
    "    plt.ylim([min(-3,np.amin(z)-0.5),max(2,np.amax(z)+0.5)])\n",
    "\n",
    "    plot=plt.plot(q_seq, z,'g')    \n",
    "    return plot\n",
    "\n",
    "\n",
    "eta_in = widg.FloatSlider(value=1, max=10, min=0)\n",
    "lamb_in = widg.FloatSlider(value=3, max=10, min=1)\n",
    "a_in = widg.FloatSlider(value=0, max=10, min=-10)\n",
    "c_in = widg.FloatSlider(value=1, max=10, min=0)\n",
    "\n",
    "eta_max = widg.FloatText(layout = widg.Layout(width= '5%'))\n",
    "eta_min = widg.FloatText(layout = widg.Layout(width= '5%'))\n",
    "lamb_max = widg.FloatText(layout = widg.Layout(width= '5%'))\n",
    "lamb_min = widg.FloatText(layout = widg.Layout(width= '5%'))\n",
    "a_max = widg.FloatText(layout = widg.Layout(width= '5%'))\n",
    "a_min = widg.FloatText(layout = widg.Layout(width= '5%'))\n",
    "c_max = widg.FloatText(layout = widg.Layout(width= '5%'))\n",
    "c_min = widg.FloatText(layout = widg.Layout(width= '5%'))\n",
    "\n",
    "\n",
    "\n",
    "def slider_box(min, slide, max, desc=None):\n",
    "    return widg.HBox([widg.Label(value=desc),min,slide,max])\n",
    "\n",
    "\n",
    "sliders = widg.VBox([slider_box(eta_min, eta_in, eta_max, desc=r'\\(\\eta\\)'),\n",
    "                    slider_box(lamb_min, lamb_in, lamb_max, desc=r'\\(\\lambda\\)'),\n",
    "                    slider_box(a_min, a_in, a_max, desc=r'\\(a\\)'),\n",
    "                    slider_box(c_min, c_in, c_max, desc=r'\\(c\\)')])\n",
    "\n",
    "# interactive_SimpUtil=plotting(eta_in.value, lamb_in.value, a_in.value, c_in.value)\n",
    "\n",
    "# interactive_SimpUtil\n",
    "\n",
    "def on_value_change(change):\n",
    "    plotting(eta=eta_in.value, lamb=lamb_in.value, a=a_in.value, c=c_in.value)\n",
    "    \n",
    "\n",
    "eta_in.observe(on_value_change, \"value\")\n",
    "lamb_in.observe(on_value_change)\n",
    "a_in.observe(on_value_change)\n",
    "c_in.observe(on_value_change)\n",
    "\n",
    "plotting(1,3,0,1)\n",
    "\n",
    "display(sliders)\n",
    "\n",
    "\n",
    "eta_link1 = widg.jslink((eta_in, 'max'), (eta_max, 'value'))\n",
    "eta_link2 = widg.jslink((eta_in, 'min'), (eta_min, 'value'))\n",
    "lamb_link1 = widg.jslink((lamb_in, 'max'), (lamb_max, 'value'))\n",
    "lamb_link2 = widg.jslink((lamb_in, 'min'), (lamb_min, 'value'))\n",
    "a_link1 = widg.jslink((a_in, 'max'), (a_max, 'value'))\n",
    "a_link2 = widg.jslink((a_in, 'min'), (a_min, 'value'))\n",
    "c_link1 = widg.jslink((c_in, 'max'), (c_max, 'value'))\n",
    "c_link2 = widg.jslink((c_in, 'min'), (c_min, 'value'))\n",
    "\n",
    "plt.ion()\n"
   ]
  },
  {
   "cell_type": "code",
   "execution_count": 2,
   "metadata": {},
   "outputs": [
    {
     "name": "stdout",
     "output_type": "stream",
     "text": [
      "0.0\n"
     ]
    },
    {
     "data": {
      "text/plain": [
       "['_dom_classes',\n",
       " '_model_module',\n",
       " '_model_module_version',\n",
       " '_model_name',\n",
       " '_view_count',\n",
       " '_view_module',\n",
       " '_view_module_version',\n",
       " '_view_name',\n",
       " 'continuous_update',\n",
       " 'description',\n",
       " 'description_tooltip',\n",
       " 'disabled',\n",
       " 'layout',\n",
       " 'step',\n",
       " 'style',\n",
       " 'value']"
      ]
     },
     "execution_count": 2,
     "metadata": {},
     "output_type": "execute_result"
    }
   ],
   "source": [
    "w=widg.FloatText()\n",
    "print(w.value)\n",
    "w.keys"
   ]
  },
  {
   "cell_type": "code",
   "execution_count": 3,
   "metadata": {},
   "outputs": [
    {
     "data": {
      "application/vnd.jupyter.widget-view+json": {
       "model_id": "72968f5dc99149df9c886bc29d340361",
       "version_major": 2,
       "version_minor": 0
      },
      "text/plain": [
       "VBox(children=(IntSlider(value=0, continuous_update=False, description='Delayed'), IntText(value=0, descriptio…"
      ]
     },
     "metadata": {},
     "output_type": "display_data"
    }
   ],
   "source": [
    "import ipywidgets as widgets\n",
    "a = widgets.IntSlider(description=\"Delayed\", continuous_update=False)\n",
    "b = widgets.IntText(description=\"Delayed\", continuous_update=False)\n",
    "c = widgets.IntSlider(description=\"Continuous\", continuous_update=True)\n",
    "d = widgets.IntText(description=\"Continuous\", continuous_update=True)\n",
    "\n",
    "widgets.link((a, 'value'), (b, 'value'))\n",
    "widgets.link((a, 'value'), (c, 'value'))\n",
    "widgets.link((a, 'value'), (d, 'value'))\n",
    "widgets.VBox([a,b,c,d])"
   ]
  },
  {
   "cell_type": "code",
   "execution_count": null,
   "metadata": {},
   "outputs": [],
   "source": []
  },
  {
   "cell_type": "code",
   "execution_count": null,
   "metadata": {},
   "outputs": [],
   "source": []
  }
 ],
 "metadata": {
  "kernelspec": {
   "display_name": "Python_Widget-J9ZC1d20",
   "language": "python",
   "name": "python_widget-j9zc1d20"
  },
  "language_info": {
   "codemirror_mode": {
    "name": "ipython",
    "version": 3
   },
   "file_extension": ".py",
   "mimetype": "text/x-python",
   "name": "python",
   "nbconvert_exporter": "python",
   "pygments_lexer": "ipython3",
   "version": "3.7.6"
  }
 },
 "nbformat": 4,
 "nbformat_minor": 5
}
